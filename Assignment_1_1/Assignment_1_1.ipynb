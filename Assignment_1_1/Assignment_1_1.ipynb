{
 "cells": [
  {
   "cell_type": "code",
   "execution_count": 38,
   "metadata": {},
   "outputs": [],
   "source": [
    "import pickle\n",
    "import numpy as np"
   ]
  },
  {
   "cell_type": "code",
   "execution_count": 39,
   "metadata": {},
   "outputs": [
    {
     "name": "stdout",
     "output_type": "stream",
     "text": [
      "Array size is consistant with the requirement\n",
      "\n",
      "\n"
     ]
    }
   ],
   "source": [
    "## Code to load the array\n",
    "with open('array.pickle', 'rb') as p:\n",
    "    arr = pickle.load(p)\n",
    "if arr.size!=1000:\n",
    "    result=\"The size of the array is not 1000\""
   ]
  },
  {
   "cell_type": "markdown",
   "metadata": {},
   "source": [
    "Check that the size of the array (arr) is 1000. Please report if any discrepancy."
   ]
  },
  {
   "cell_type": "markdown",
   "metadata": {},
   "source": [
    "## Task 1: Resize the array to a (20x50) matrix"
   ]
  },
  {
   "cell_type": "code",
   "execution_count": 40,
   "metadata": {},
   "outputs": [],
   "source": [
    "## BEGIN CODE\n",
    "arr2 = np.zeros((20,50))\n",
    "for a in range(1000):\n",
    "    i=a//50\n",
    "    j=a%50\n",
    "    arr2[i][j]=arr[a]   \n",
    "result=arr2\n",
    "## END CODE"
   ]
  },
  {
   "cell_type": "markdown",
   "metadata": {},
   "source": [
    "## Task 2: Find the transpose of this matrix"
   ]
  },
  {
   "cell_type": "code",
   "execution_count": 52,
   "metadata": {},
   "outputs": [
    {
     "name": "stdout",
     "output_type": "stream",
     "text": [
      "The transposed array is as follows:\n",
      "\n",
      "\n",
      "\n",
      "\n"
     ]
    }
   ],
   "source": [
    "## BEGIN CODE\n",
    "arr_T = np.transpose(result)\n",
    "## END CODE"
   ]
  },
  {
   "cell_type": "markdown",
   "metadata": {},
   "source": [
    "## Task 3: Find the dot product of the matrices created in Tasks 1 & 2"
   ]
  },
  {
   "cell_type": "code",
   "execution_count": 53,
   "metadata": {},
   "outputs": [
    {
     "name": "stdout",
     "output_type": "stream",
     "text": [
      "The dot product is as follows:\n",
      "\n",
      "\n",
      "\n",
      "\n"
     ]
    }
   ],
   "source": [
    "## BEGIN CODE\n",
    "arr_dot=np.dot(result,arr_T)\n",
    "result=arr_dot\n",
    "## END CODE"
   ]
  },
  {
   "cell_type": "markdown",
   "metadata": {},
   "source": [
    "## Task 4: Find the row-wise sum of the resulting matrix"
   ]
  },
  {
   "cell_type": "code",
   "execution_count": 50,
   "metadata": {},
   "outputs": [
    {
     "name": "stdout",
     "output_type": "stream",
     "text": [
      "The row-wise sum is as follows:\n",
      "[2365442.27809957 3002112.3995789  2779184.43777157 2477210.32440039\n",
      " 2627759.87742664 2220803.79590608 2429710.18283941 2508044.22721641\n",
      " 2459318.36600334 2325031.07739166 2896081.10050922 2762062.07921721\n",
      " 2660473.74582437 2141287.18395127 2694809.41626161 2254508.32241154\n",
      " 2480788.07237605 2727792.51946167 2586794.20382212 2681242.33967484]\n",
      "\n",
      "\n",
      "\n",
      "\n"
     ]
    }
   ],
   "source": [
    "## BEGIN CODE\n",
    "result=np.sum(result,axis=1)\n",
    "## END CODE"
   ]
  },
  {
   "cell_type": "markdown",
   "metadata": {},
   "source": [
    "## Task 5: Find the square root of all elements in the resulting matrix"
   ]
  },
  {
   "cell_type": "code",
   "execution_count": 51,
   "metadata": {},
   "outputs": [
    {
     "name": "stdout",
     "output_type": "stream",
     "text": [
      "The square root of all elements are as follows:\n",
      "[1537.99944021 1732.66049749 1667.08861125 1573.91560269 1621.03666751\n",
      " 1490.23615441 1558.75276514 1583.68059507 1568.2214021  1524.80525884\n",
      " 1701.7876191  1661.94526962 1631.09587266 1463.31376811 1641.58746836\n",
      " 1501.50202211 1575.05176816 1651.60301509 1608.35139314 1637.44995028]\n",
      "\n",
      "\n",
      "\n",
      "\n"
     ]
    }
   ],
   "source": [
    "## BEGIN CODE\n",
    "result=np.sqrt(result)\n",
    "## END CODE"
   ]
  },
  {
   "cell_type": "markdown",
   "metadata": {},
   "source": [
    "## Task 6: Find the sine value of all elements in the resulting matrix"
   ]
  },
  {
   "cell_type": "code",
   "execution_count": null,
   "metadata": {},
   "outputs": [],
   "source": [
    "## BEGIN CODE\n",
    "result=np.sin(result)\n",
    "## END CODE"
   ]
  },
  {
   "cell_type": "markdown",
   "metadata": {},
   "source": [
    "## Create submission file"
   ]
  },
  {
   "cell_type": "code",
   "execution_count": null,
   "metadata": {},
   "outputs": [],
   "source": [
    "## Assign the name of the variable containing the final matrix to VARIABLE_NAME variable.\n",
    "\n",
    "VARIABLE_NAME = result\n",
    "with open('submission.pickle', 'wb') as p:\n",
    "    pickle.dump(VARIABLE_NAME, p)"
   ]
  }
 ],
 "metadata": {
  "kernelspec": {
   "display_name": "Python 3",
   "language": "python",
   "name": "python3"
  },
  "language_info": {
   "codemirror_mode": {
    "name": "ipython",
    "version": 3
   },
   "file_extension": ".py",
   "mimetype": "text/x-python",
   "name": "python",
   "nbconvert_exporter": "python",
   "pygments_lexer": "ipython3",
   "version": "3.6.4"
  }
 },
 "nbformat": 4,
 "nbformat_minor": 2
}
